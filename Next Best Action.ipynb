{
 "cells": [
  {
   "cell_type": "code",
   "execution_count": 1,
   "id": "46028cd4",
   "metadata": {},
   "outputs": [],
   "source": [
    "import pandas as pd\n",
    "import numpy as np\n",
    "from datetime import time\n",
    "df = pd.read_excel('CHURNDATA (1).xlsx')"
   ]
  },
  {
   "cell_type": "code",
   "execution_count": 2,
   "id": "cc016e1a",
   "metadata": {},
   "outputs": [
    {
     "data": {
      "text/html": [
       "<div>\n",
       "<style scoped>\n",
       "    .dataframe tbody tr th:only-of-type {\n",
       "        vertical-align: middle;\n",
       "    }\n",
       "\n",
       "    .dataframe tbody tr th {\n",
       "        vertical-align: top;\n",
       "    }\n",
       "\n",
       "    .dataframe thead th {\n",
       "        text-align: right;\n",
       "    }\n",
       "</style>\n",
       "<table border=\"1\" class=\"dataframe\">\n",
       "  <thead>\n",
       "    <tr style=\"text-align: right;\">\n",
       "      <th></th>\n",
       "      <th>CUS_DOB</th>\n",
       "      <th>AGE</th>\n",
       "      <th>CUS_Month_Income</th>\n",
       "      <th>CUS_Gender</th>\n",
       "      <th>CUS_Marital_Status</th>\n",
       "      <th>CUS_Customer_Since</th>\n",
       "      <th>YEARS_WITH_US</th>\n",
       "      <th>Total debit transactions for S1</th>\n",
       "      <th>Total debit transactions for S2</th>\n",
       "      <th>Total debit transactions for S3</th>\n",
       "      <th>...</th>\n",
       "      <th>Total credit amount for S2</th>\n",
       "      <th>Total credit amount for S3</th>\n",
       "      <th>Total debit amount</th>\n",
       "      <th>Total debit transactions</th>\n",
       "      <th>Total credit amount</th>\n",
       "      <th>Total credit transactions</th>\n",
       "      <th>Total transactions</th>\n",
       "      <th>CUS_Target</th>\n",
       "      <th>TAR_Desc</th>\n",
       "      <th>Status</th>\n",
       "    </tr>\n",
       "  </thead>\n",
       "  <tbody>\n",
       "    <tr>\n",
       "      <th>0</th>\n",
       "      <td>Feb 13 1970 12:00AM</td>\n",
       "      <td>49</td>\n",
       "      <td>7116.64</td>\n",
       "      <td>MALE</td>\n",
       "      <td>MARRIED</td>\n",
       "      <td>1994-06-30</td>\n",
       "      <td>25</td>\n",
       "      <td>277</td>\n",
       "      <td>265</td>\n",
       "      <td>345</td>\n",
       "      <td>...</td>\n",
       "      <td>1764079.61</td>\n",
       "      <td>2378592.62</td>\n",
       "      <td>4758311.63</td>\n",
       "      <td>887</td>\n",
       "      <td>5659653.33</td>\n",
       "      <td>65</td>\n",
       "      <td>952</td>\n",
       "      <td>2231</td>\n",
       "      <td>EXECUTIVE</td>\n",
       "      <td>ACTIVE</td>\n",
       "    </tr>\n",
       "    <tr>\n",
       "      <th>1</th>\n",
       "      <td>Sep 20 1973 12:00AM</td>\n",
       "      <td>46</td>\n",
       "      <td>1500000.00</td>\n",
       "      <td>FEMALE</td>\n",
       "      <td>SINGLE</td>\n",
       "      <td>2005-05-19</td>\n",
       "      <td>14</td>\n",
       "      <td>37</td>\n",
       "      <td>15</td>\n",
       "      <td>45</td>\n",
       "      <td>...</td>\n",
       "      <td>19500.00</td>\n",
       "      <td>57500.00</td>\n",
       "      <td>139363.22</td>\n",
       "      <td>97</td>\n",
       "      <td>87000.00</td>\n",
       "      <td>10</td>\n",
       "      <td>107</td>\n",
       "      <td>2223</td>\n",
       "      <td>LOW</td>\n",
       "      <td>ACTIVE</td>\n",
       "    </tr>\n",
       "    <tr>\n",
       "      <th>2</th>\n",
       "      <td>Jul 18 1966 12:00AM</td>\n",
       "      <td>53</td>\n",
       "      <td>5000000.00</td>\n",
       "      <td>FEMALE</td>\n",
       "      <td>SINGLE</td>\n",
       "      <td>2005-05-20</td>\n",
       "      <td>14</td>\n",
       "      <td>31</td>\n",
       "      <td>14</td>\n",
       "      <td>8</td>\n",
       "      <td>...</td>\n",
       "      <td>240311.84</td>\n",
       "      <td>70946.86</td>\n",
       "      <td>37375.46</td>\n",
       "      <td>53</td>\n",
       "      <td>1020883.70</td>\n",
       "      <td>27</td>\n",
       "      <td>80</td>\n",
       "      <td>2222</td>\n",
       "      <td>MIDLE</td>\n",
       "      <td>ACTIVE</td>\n",
       "    </tr>\n",
       "    <tr>\n",
       "      <th>3</th>\n",
       "      <td>Jan  9 2004 12:00AM</td>\n",
       "      <td>15</td>\n",
       "      <td>500.00</td>\n",
       "      <td>FEMALE</td>\n",
       "      <td>SINGLE</td>\n",
       "      <td>2005-05-20</td>\n",
       "      <td>14</td>\n",
       "      <td>0</td>\n",
       "      <td>1</td>\n",
       "      <td>0</td>\n",
       "      <td>...</td>\n",
       "      <td>28089.99</td>\n",
       "      <td>18753.92</td>\n",
       "      <td>4000.00</td>\n",
       "      <td>1</td>\n",
       "      <td>76946.96</td>\n",
       "      <td>12</td>\n",
       "      <td>13</td>\n",
       "      <td>2223</td>\n",
       "      <td>LOW</td>\n",
       "      <td>ACTIVE</td>\n",
       "    </tr>\n",
       "    <tr>\n",
       "      <th>4</th>\n",
       "      <td>Mar  7 1971 12:00AM</td>\n",
       "      <td>48</td>\n",
       "      <td>9000000.00</td>\n",
       "      <td>FEMALE</td>\n",
       "      <td>SINGLE</td>\n",
       "      <td>2014-06-30</td>\n",
       "      <td>5</td>\n",
       "      <td>15</td>\n",
       "      <td>33</td>\n",
       "      <td>12</td>\n",
       "      <td>...</td>\n",
       "      <td>176000.00</td>\n",
       "      <td>70500.00</td>\n",
       "      <td>338470.29</td>\n",
       "      <td>60</td>\n",
       "      <td>442100.00</td>\n",
       "      <td>21</td>\n",
       "      <td>81</td>\n",
       "      <td>2223</td>\n",
       "      <td>LOW</td>\n",
       "      <td>ACTIVE</td>\n",
       "    </tr>\n",
       "  </tbody>\n",
       "</table>\n",
       "<p>5 rows × 27 columns</p>\n",
       "</div>"
      ],
      "text/plain": [
       "               CUS_DOB  AGE  CUS_Month_Income CUS_Gender CUS_Marital_Status  \\\n",
       "0  Feb 13 1970 12:00AM   49           7116.64       MALE            MARRIED   \n",
       "1  Sep 20 1973 12:00AM   46        1500000.00     FEMALE             SINGLE   \n",
       "2  Jul 18 1966 12:00AM   53        5000000.00     FEMALE             SINGLE   \n",
       "3  Jan  9 2004 12:00AM   15            500.00     FEMALE             SINGLE   \n",
       "4  Mar  7 1971 12:00AM   48        9000000.00     FEMALE             SINGLE   \n",
       "\n",
       "  CUS_Customer_Since  YEARS_WITH_US  Total debit transactions for S1  \\\n",
       "0         1994-06-30             25                              277   \n",
       "1         2005-05-19             14                               37   \n",
       "2         2005-05-20             14                               31   \n",
       "3         2005-05-20             14                                0   \n",
       "4         2014-06-30              5                               15   \n",
       "\n",
       "   Total debit transactions for S2  Total debit transactions for S3  ...  \\\n",
       "0                              265                              345  ...   \n",
       "1                               15                               45  ...   \n",
       "2                               14                                8  ...   \n",
       "3                                1                                0  ...   \n",
       "4                               33                               12  ...   \n",
       "\n",
       "   Total credit amount for S2  Total credit amount for S3  Total debit amount  \\\n",
       "0                  1764079.61                  2378592.62          4758311.63   \n",
       "1                    19500.00                    57500.00           139363.22   \n",
       "2                   240311.84                    70946.86            37375.46   \n",
       "3                    28089.99                    18753.92             4000.00   \n",
       "4                   176000.00                    70500.00           338470.29   \n",
       "\n",
       "   Total debit transactions  Total credit amount  Total credit transactions  \\\n",
       "0                       887           5659653.33                         65   \n",
       "1                        97             87000.00                         10   \n",
       "2                        53           1020883.70                         27   \n",
       "3                         1             76946.96                         12   \n",
       "4                        60            442100.00                         21   \n",
       "\n",
       "   Total transactions  CUS_Target   TAR_Desc  Status  \n",
       "0                 952        2231  EXECUTIVE  ACTIVE  \n",
       "1                 107        2223        LOW  ACTIVE  \n",
       "2                  80        2222      MIDLE  ACTIVE  \n",
       "3                  13        2223        LOW  ACTIVE  \n",
       "4                  81        2223        LOW  ACTIVE  \n",
       "\n",
       "[5 rows x 27 columns]"
      ]
     },
     "execution_count": 2,
     "metadata": {},
     "output_type": "execute_result"
    }
   ],
   "source": [
    "df.head()"
   ]
  },
  {
   "cell_type": "code",
   "execution_count": 3,
   "id": "c79d0245",
   "metadata": {},
   "outputs": [
    {
     "name": "stdout",
     "output_type": "stream",
     "text": [
      "<class 'pandas.core.frame.DataFrame'>\n",
      "RangeIndex: 1249 entries, 0 to 1248\n",
      "Data columns (total 27 columns):\n",
      " #   Column                            Non-Null Count  Dtype         \n",
      "---  ------                            --------------  -----         \n",
      " 0   CUS_DOB                           1249 non-null   object        \n",
      " 1   AGE                               1249 non-null   int64         \n",
      " 2   CUS_Month_Income                  1238 non-null   float64       \n",
      " 3   CUS_Gender                        1247 non-null   object        \n",
      " 4   CUS_Marital_Status                1249 non-null   object        \n",
      " 5   CUS_Customer_Since                1249 non-null   datetime64[ns]\n",
      " 6   YEARS_WITH_US                     1249 non-null   int64         \n",
      " 7   Total debit transactions for S1   1249 non-null   int64         \n",
      " 8   Total debit transactions for S2   1249 non-null   int64         \n",
      " 9   Total debit transactions for S3   1249 non-null   int64         \n",
      " 10  Total debit amount for S1         1249 non-null   float64       \n",
      " 11  Total debit amount for S2         1249 non-null   float64       \n",
      " 12  Total debit amount for S3         1249 non-null   float64       \n",
      " 13  Total credit transactions for S1  1249 non-null   int64         \n",
      " 14  Total credit transactions for S2  1249 non-null   int64         \n",
      " 15  Total credit transactions for S3  1249 non-null   int64         \n",
      " 16  Total credit amount for S1        1249 non-null   float64       \n",
      " 17  Total credit amount for S2        1249 non-null   float64       \n",
      " 18  Total credit amount for S3        1249 non-null   float64       \n",
      " 19  Total debit amount                1249 non-null   float64       \n",
      " 20  Total debit transactions          1249 non-null   int64         \n",
      " 21  Total credit amount               1249 non-null   float64       \n",
      " 22  Total credit transactions         1249 non-null   int64         \n",
      " 23  Total transactions                1249 non-null   int64         \n",
      " 24  CUS_Target                        1249 non-null   int64         \n",
      " 25  TAR_Desc                          1249 non-null   object        \n",
      " 26  Status                            1249 non-null   object        \n",
      "dtypes: datetime64[ns](1), float64(9), int64(12), object(5)\n",
      "memory usage: 263.6+ KB\n"
     ]
    }
   ],
   "source": [
    "df.info()"
   ]
  },
  {
   "cell_type": "code",
   "execution_count": 4,
   "id": "e3609a46",
   "metadata": {},
   "outputs": [],
   "source": [
    "df['CUS_DOB'] = pd.to_datetime(df['CUS_DOB'])"
   ]
  },
  {
   "cell_type": "code",
   "execution_count": 5,
   "id": "697ea946",
   "metadata": {},
   "outputs": [],
   "source": [
    "df['DOB_YEAR'] = df['CUS_DOB'].dt.year\n",
    "df['DOB_MONTH'] = df['CUS_DOB'].dt.month\n",
    "df['DOB_DATE'] = df['CUS_DOB'].dt.day"
   ]
  },
  {
   "cell_type": "code",
   "execution_count": 6,
   "id": "24bf3c27",
   "metadata": {},
   "outputs": [
    {
     "data": {
      "text/html": [
       "<div>\n",
       "<style scoped>\n",
       "    .dataframe tbody tr th:only-of-type {\n",
       "        vertical-align: middle;\n",
       "    }\n",
       "\n",
       "    .dataframe tbody tr th {\n",
       "        vertical-align: top;\n",
       "    }\n",
       "\n",
       "    .dataframe thead th {\n",
       "        text-align: right;\n",
       "    }\n",
       "</style>\n",
       "<table border=\"1\" class=\"dataframe\">\n",
       "  <thead>\n",
       "    <tr style=\"text-align: right;\">\n",
       "      <th></th>\n",
       "      <th>CUS_DOB</th>\n",
       "      <th>AGE</th>\n",
       "      <th>CUS_Month_Income</th>\n",
       "      <th>CUS_Gender</th>\n",
       "      <th>CUS_Marital_Status</th>\n",
       "      <th>CUS_Customer_Since</th>\n",
       "      <th>YEARS_WITH_US</th>\n",
       "      <th>Total debit transactions for S1</th>\n",
       "      <th>Total debit transactions for S2</th>\n",
       "      <th>Total debit transactions for S3</th>\n",
       "      <th>...</th>\n",
       "      <th>Total debit transactions</th>\n",
       "      <th>Total credit amount</th>\n",
       "      <th>Total credit transactions</th>\n",
       "      <th>Total transactions</th>\n",
       "      <th>CUS_Target</th>\n",
       "      <th>TAR_Desc</th>\n",
       "      <th>Status</th>\n",
       "      <th>DOB_YEAR</th>\n",
       "      <th>DOB_MONTH</th>\n",
       "      <th>DOB_DATE</th>\n",
       "    </tr>\n",
       "  </thead>\n",
       "  <tbody>\n",
       "    <tr>\n",
       "      <th>0</th>\n",
       "      <td>1970-02-13</td>\n",
       "      <td>49</td>\n",
       "      <td>7116.64</td>\n",
       "      <td>MALE</td>\n",
       "      <td>MARRIED</td>\n",
       "      <td>1994-06-30</td>\n",
       "      <td>25</td>\n",
       "      <td>277</td>\n",
       "      <td>265</td>\n",
       "      <td>345</td>\n",
       "      <td>...</td>\n",
       "      <td>887</td>\n",
       "      <td>5659653.33</td>\n",
       "      <td>65</td>\n",
       "      <td>952</td>\n",
       "      <td>2231</td>\n",
       "      <td>EXECUTIVE</td>\n",
       "      <td>ACTIVE</td>\n",
       "      <td>1970</td>\n",
       "      <td>2</td>\n",
       "      <td>13</td>\n",
       "    </tr>\n",
       "    <tr>\n",
       "      <th>1</th>\n",
       "      <td>1973-09-20</td>\n",
       "      <td>46</td>\n",
       "      <td>1500000.00</td>\n",
       "      <td>FEMALE</td>\n",
       "      <td>SINGLE</td>\n",
       "      <td>2005-05-19</td>\n",
       "      <td>14</td>\n",
       "      <td>37</td>\n",
       "      <td>15</td>\n",
       "      <td>45</td>\n",
       "      <td>...</td>\n",
       "      <td>97</td>\n",
       "      <td>87000.00</td>\n",
       "      <td>10</td>\n",
       "      <td>107</td>\n",
       "      <td>2223</td>\n",
       "      <td>LOW</td>\n",
       "      <td>ACTIVE</td>\n",
       "      <td>1973</td>\n",
       "      <td>9</td>\n",
       "      <td>20</td>\n",
       "    </tr>\n",
       "    <tr>\n",
       "      <th>2</th>\n",
       "      <td>1966-07-18</td>\n",
       "      <td>53</td>\n",
       "      <td>5000000.00</td>\n",
       "      <td>FEMALE</td>\n",
       "      <td>SINGLE</td>\n",
       "      <td>2005-05-20</td>\n",
       "      <td>14</td>\n",
       "      <td>31</td>\n",
       "      <td>14</td>\n",
       "      <td>8</td>\n",
       "      <td>...</td>\n",
       "      <td>53</td>\n",
       "      <td>1020883.70</td>\n",
       "      <td>27</td>\n",
       "      <td>80</td>\n",
       "      <td>2222</td>\n",
       "      <td>MIDLE</td>\n",
       "      <td>ACTIVE</td>\n",
       "      <td>1966</td>\n",
       "      <td>7</td>\n",
       "      <td>18</td>\n",
       "    </tr>\n",
       "    <tr>\n",
       "      <th>3</th>\n",
       "      <td>2004-01-09</td>\n",
       "      <td>15</td>\n",
       "      <td>500.00</td>\n",
       "      <td>FEMALE</td>\n",
       "      <td>SINGLE</td>\n",
       "      <td>2005-05-20</td>\n",
       "      <td>14</td>\n",
       "      <td>0</td>\n",
       "      <td>1</td>\n",
       "      <td>0</td>\n",
       "      <td>...</td>\n",
       "      <td>1</td>\n",
       "      <td>76946.96</td>\n",
       "      <td>12</td>\n",
       "      <td>13</td>\n",
       "      <td>2223</td>\n",
       "      <td>LOW</td>\n",
       "      <td>ACTIVE</td>\n",
       "      <td>2004</td>\n",
       "      <td>1</td>\n",
       "      <td>9</td>\n",
       "    </tr>\n",
       "    <tr>\n",
       "      <th>4</th>\n",
       "      <td>1971-03-07</td>\n",
       "      <td>48</td>\n",
       "      <td>9000000.00</td>\n",
       "      <td>FEMALE</td>\n",
       "      <td>SINGLE</td>\n",
       "      <td>2014-06-30</td>\n",
       "      <td>5</td>\n",
       "      <td>15</td>\n",
       "      <td>33</td>\n",
       "      <td>12</td>\n",
       "      <td>...</td>\n",
       "      <td>60</td>\n",
       "      <td>442100.00</td>\n",
       "      <td>21</td>\n",
       "      <td>81</td>\n",
       "      <td>2223</td>\n",
       "      <td>LOW</td>\n",
       "      <td>ACTIVE</td>\n",
       "      <td>1971</td>\n",
       "      <td>3</td>\n",
       "      <td>7</td>\n",
       "    </tr>\n",
       "  </tbody>\n",
       "</table>\n",
       "<p>5 rows × 30 columns</p>\n",
       "</div>"
      ],
      "text/plain": [
       "     CUS_DOB  AGE  CUS_Month_Income CUS_Gender CUS_Marital_Status  \\\n",
       "0 1970-02-13   49           7116.64       MALE            MARRIED   \n",
       "1 1973-09-20   46        1500000.00     FEMALE             SINGLE   \n",
       "2 1966-07-18   53        5000000.00     FEMALE             SINGLE   \n",
       "3 2004-01-09   15            500.00     FEMALE             SINGLE   \n",
       "4 1971-03-07   48        9000000.00     FEMALE             SINGLE   \n",
       "\n",
       "  CUS_Customer_Since  YEARS_WITH_US  Total debit transactions for S1  \\\n",
       "0         1994-06-30             25                              277   \n",
       "1         2005-05-19             14                               37   \n",
       "2         2005-05-20             14                               31   \n",
       "3         2005-05-20             14                                0   \n",
       "4         2014-06-30              5                               15   \n",
       "\n",
       "   Total debit transactions for S2  Total debit transactions for S3  ...  \\\n",
       "0                              265                              345  ...   \n",
       "1                               15                               45  ...   \n",
       "2                               14                                8  ...   \n",
       "3                                1                                0  ...   \n",
       "4                               33                               12  ...   \n",
       "\n",
       "   Total debit transactions  Total credit amount  Total credit transactions  \\\n",
       "0                       887           5659653.33                         65   \n",
       "1                        97             87000.00                         10   \n",
       "2                        53           1020883.70                         27   \n",
       "3                         1             76946.96                         12   \n",
       "4                        60            442100.00                         21   \n",
       "\n",
       "   Total transactions  CUS_Target   TAR_Desc  Status  DOB_YEAR  DOB_MONTH  \\\n",
       "0                 952        2231  EXECUTIVE  ACTIVE      1970          2   \n",
       "1                 107        2223        LOW  ACTIVE      1973          9   \n",
       "2                  80        2222      MIDLE  ACTIVE      1966          7   \n",
       "3                  13        2223        LOW  ACTIVE      2004          1   \n",
       "4                  81        2223        LOW  ACTIVE      1971          3   \n",
       "\n",
       "   DOB_DATE  \n",
       "0        13  \n",
       "1        20  \n",
       "2        18  \n",
       "3         9  \n",
       "4         7  \n",
       "\n",
       "[5 rows x 30 columns]"
      ]
     },
     "execution_count": 6,
     "metadata": {},
     "output_type": "execute_result"
    }
   ],
   "source": [
    "df.head()"
   ]
  },
  {
   "cell_type": "code",
   "execution_count": 7,
   "id": "60170275",
   "metadata": {},
   "outputs": [],
   "source": [
    "df.drop('CUS_DOB', axis=1,inplace=True)"
   ]
  },
  {
   "cell_type": "code",
   "execution_count": 8,
   "id": "41fe5f67",
   "metadata": {},
   "outputs": [
    {
     "data": {
      "text/html": [
       "<div>\n",
       "<style scoped>\n",
       "    .dataframe tbody tr th:only-of-type {\n",
       "        vertical-align: middle;\n",
       "    }\n",
       "\n",
       "    .dataframe tbody tr th {\n",
       "        vertical-align: top;\n",
       "    }\n",
       "\n",
       "    .dataframe thead th {\n",
       "        text-align: right;\n",
       "    }\n",
       "</style>\n",
       "<table border=\"1\" class=\"dataframe\">\n",
       "  <thead>\n",
       "    <tr style=\"text-align: right;\">\n",
       "      <th></th>\n",
       "      <th>AGE</th>\n",
       "      <th>CUS_Month_Income</th>\n",
       "      <th>CUS_Gender</th>\n",
       "      <th>CUS_Marital_Status</th>\n",
       "      <th>CUS_Customer_Since</th>\n",
       "      <th>YEARS_WITH_US</th>\n",
       "      <th>Total debit transactions for S1</th>\n",
       "      <th>Total debit transactions for S2</th>\n",
       "      <th>Total debit transactions for S3</th>\n",
       "      <th>Total debit amount for S1</th>\n",
       "      <th>...</th>\n",
       "      <th>Total debit transactions</th>\n",
       "      <th>Total credit amount</th>\n",
       "      <th>Total credit transactions</th>\n",
       "      <th>Total transactions</th>\n",
       "      <th>CUS_Target</th>\n",
       "      <th>TAR_Desc</th>\n",
       "      <th>Status</th>\n",
       "      <th>DOB_YEAR</th>\n",
       "      <th>DOB_MONTH</th>\n",
       "      <th>DOB_DATE</th>\n",
       "    </tr>\n",
       "  </thead>\n",
       "  <tbody>\n",
       "    <tr>\n",
       "      <th>0</th>\n",
       "      <td>49</td>\n",
       "      <td>7116.64</td>\n",
       "      <td>MALE</td>\n",
       "      <td>MARRIED</td>\n",
       "      <td>1994-06-30</td>\n",
       "      <td>25</td>\n",
       "      <td>277</td>\n",
       "      <td>265</td>\n",
       "      <td>345</td>\n",
       "      <td>1459126.64</td>\n",
       "      <td>...</td>\n",
       "      <td>887</td>\n",
       "      <td>5659653.33</td>\n",
       "      <td>65</td>\n",
       "      <td>952</td>\n",
       "      <td>2231</td>\n",
       "      <td>EXECUTIVE</td>\n",
       "      <td>ACTIVE</td>\n",
       "      <td>1970</td>\n",
       "      <td>2</td>\n",
       "      <td>13</td>\n",
       "    </tr>\n",
       "    <tr>\n",
       "      <th>1</th>\n",
       "      <td>46</td>\n",
       "      <td>1500000.00</td>\n",
       "      <td>FEMALE</td>\n",
       "      <td>SINGLE</td>\n",
       "      <td>2005-05-19</td>\n",
       "      <td>14</td>\n",
       "      <td>37</td>\n",
       "      <td>15</td>\n",
       "      <td>45</td>\n",
       "      <td>35372.55</td>\n",
       "      <td>...</td>\n",
       "      <td>97</td>\n",
       "      <td>87000.00</td>\n",
       "      <td>10</td>\n",
       "      <td>107</td>\n",
       "      <td>2223</td>\n",
       "      <td>LOW</td>\n",
       "      <td>ACTIVE</td>\n",
       "      <td>1973</td>\n",
       "      <td>9</td>\n",
       "      <td>20</td>\n",
       "    </tr>\n",
       "    <tr>\n",
       "      <th>2</th>\n",
       "      <td>53</td>\n",
       "      <td>5000000.00</td>\n",
       "      <td>FEMALE</td>\n",
       "      <td>SINGLE</td>\n",
       "      <td>2005-05-20</td>\n",
       "      <td>14</td>\n",
       "      <td>31</td>\n",
       "      <td>14</td>\n",
       "      <td>8</td>\n",
       "      <td>28248.85</td>\n",
       "      <td>...</td>\n",
       "      <td>53</td>\n",
       "      <td>1020883.70</td>\n",
       "      <td>27</td>\n",
       "      <td>80</td>\n",
       "      <td>2222</td>\n",
       "      <td>MIDLE</td>\n",
       "      <td>ACTIVE</td>\n",
       "      <td>1966</td>\n",
       "      <td>7</td>\n",
       "      <td>18</td>\n",
       "    </tr>\n",
       "    <tr>\n",
       "      <th>3</th>\n",
       "      <td>15</td>\n",
       "      <td>500.00</td>\n",
       "      <td>FEMALE</td>\n",
       "      <td>SINGLE</td>\n",
       "      <td>2005-05-20</td>\n",
       "      <td>14</td>\n",
       "      <td>0</td>\n",
       "      <td>1</td>\n",
       "      <td>0</td>\n",
       "      <td>0.00</td>\n",
       "      <td>...</td>\n",
       "      <td>1</td>\n",
       "      <td>76946.96</td>\n",
       "      <td>12</td>\n",
       "      <td>13</td>\n",
       "      <td>2223</td>\n",
       "      <td>LOW</td>\n",
       "      <td>ACTIVE</td>\n",
       "      <td>2004</td>\n",
       "      <td>1</td>\n",
       "      <td>9</td>\n",
       "    </tr>\n",
       "    <tr>\n",
       "      <th>4</th>\n",
       "      <td>48</td>\n",
       "      <td>9000000.00</td>\n",
       "      <td>FEMALE</td>\n",
       "      <td>SINGLE</td>\n",
       "      <td>2014-06-30</td>\n",
       "      <td>5</td>\n",
       "      <td>15</td>\n",
       "      <td>33</td>\n",
       "      <td>12</td>\n",
       "      <td>69083.38</td>\n",
       "      <td>...</td>\n",
       "      <td>60</td>\n",
       "      <td>442100.00</td>\n",
       "      <td>21</td>\n",
       "      <td>81</td>\n",
       "      <td>2223</td>\n",
       "      <td>LOW</td>\n",
       "      <td>ACTIVE</td>\n",
       "      <td>1971</td>\n",
       "      <td>3</td>\n",
       "      <td>7</td>\n",
       "    </tr>\n",
       "  </tbody>\n",
       "</table>\n",
       "<p>5 rows × 29 columns</p>\n",
       "</div>"
      ],
      "text/plain": [
       "   AGE  CUS_Month_Income CUS_Gender CUS_Marital_Status CUS_Customer_Since  \\\n",
       "0   49           7116.64       MALE            MARRIED         1994-06-30   \n",
       "1   46        1500000.00     FEMALE             SINGLE         2005-05-19   \n",
       "2   53        5000000.00     FEMALE             SINGLE         2005-05-20   \n",
       "3   15            500.00     FEMALE             SINGLE         2005-05-20   \n",
       "4   48        9000000.00     FEMALE             SINGLE         2014-06-30   \n",
       "\n",
       "   YEARS_WITH_US  Total debit transactions for S1  \\\n",
       "0             25                              277   \n",
       "1             14                               37   \n",
       "2             14                               31   \n",
       "3             14                                0   \n",
       "4              5                               15   \n",
       "\n",
       "   Total debit transactions for S2  Total debit transactions for S3  \\\n",
       "0                              265                              345   \n",
       "1                               15                               45   \n",
       "2                               14                                8   \n",
       "3                                1                                0   \n",
       "4                               33                               12   \n",
       "\n",
       "   Total debit amount for S1  ...  Total debit transactions  \\\n",
       "0                 1459126.64  ...                       887   \n",
       "1                   35372.55  ...                        97   \n",
       "2                   28248.85  ...                        53   \n",
       "3                       0.00  ...                         1   \n",
       "4                   69083.38  ...                        60   \n",
       "\n",
       "   Total credit amount  Total credit transactions  Total transactions  \\\n",
       "0           5659653.33                         65                 952   \n",
       "1             87000.00                         10                 107   \n",
       "2           1020883.70                         27                  80   \n",
       "3             76946.96                         12                  13   \n",
       "4            442100.00                         21                  81   \n",
       "\n",
       "   CUS_Target   TAR_Desc  Status  DOB_YEAR  DOB_MONTH  DOB_DATE  \n",
       "0        2231  EXECUTIVE  ACTIVE      1970          2        13  \n",
       "1        2223        LOW  ACTIVE      1973          9        20  \n",
       "2        2222      MIDLE  ACTIVE      1966          7        18  \n",
       "3        2223        LOW  ACTIVE      2004          1         9  \n",
       "4        2223        LOW  ACTIVE      1971          3         7  \n",
       "\n",
       "[5 rows x 29 columns]"
      ]
     },
     "execution_count": 8,
     "metadata": {},
     "output_type": "execute_result"
    }
   ],
   "source": [
    "df.head()"
   ]
  },
  {
   "cell_type": "code",
   "execution_count": 9,
   "id": "e3320842",
   "metadata": {},
   "outputs": [],
   "source": [
    "df['CUS_Month_Income'] = df['CUS_Month_Income'].fillna(0)"
   ]
  },
  {
   "cell_type": "code",
   "execution_count": 10,
   "id": "186ce5a1",
   "metadata": {},
   "outputs": [
    {
     "data": {
      "text/plain": [
       "MALE      741\n",
       "FEMALE    506\n",
       "Name: CUS_Gender, dtype: int64"
      ]
     },
     "execution_count": 10,
     "metadata": {},
     "output_type": "execute_result"
    }
   ],
   "source": [
    "df['CUS_Gender'].value_counts()"
   ]
  },
  {
   "cell_type": "code",
   "execution_count": 11,
   "id": "42c4a2be",
   "metadata": {},
   "outputs": [],
   "source": [
    "df['CUS_Gender'].replace({'MALE':0,'FEMALE':1},inplace=True)"
   ]
  },
  {
   "cell_type": "code",
   "execution_count": 12,
   "id": "a7727577",
   "metadata": {},
   "outputs": [
    {
     "data": {
      "text/plain": [
       "array([ 0.,  1., nan])"
      ]
     },
     "execution_count": 12,
     "metadata": {},
     "output_type": "execute_result"
    }
   ],
   "source": [
    "df['CUS_Gender'].unique()"
   ]
  },
  {
   "cell_type": "code",
   "execution_count": 13,
   "id": "69cbf4a8",
   "metadata": {},
   "outputs": [],
   "source": [
    "# Calculate the mean value of the feature\n",
    "mean_value = df['CUS_Gender'].mean()\n",
    "\n",
    "# Replace missing values with the mean value\n",
    "df['CUS_Gender'].fillna(mean_value, inplace=True)"
   ]
  },
  {
   "cell_type": "code",
   "execution_count": 14,
   "id": "684398c9",
   "metadata": {},
   "outputs": [],
   "source": [
    "df['CUS_Gender'] = df['CUS_Gender'].astype(int)"
   ]
  },
  {
   "cell_type": "code",
   "execution_count": 15,
   "id": "b45c5edf",
   "metadata": {},
   "outputs": [
    {
     "name": "stdout",
     "output_type": "stream",
     "text": [
      "<class 'pandas.core.frame.DataFrame'>\n",
      "RangeIndex: 1249 entries, 0 to 1248\n",
      "Data columns (total 29 columns):\n",
      " #   Column                            Non-Null Count  Dtype         \n",
      "---  ------                            --------------  -----         \n",
      " 0   AGE                               1249 non-null   int64         \n",
      " 1   CUS_Month_Income                  1249 non-null   float64       \n",
      " 2   CUS_Gender                        1249 non-null   int32         \n",
      " 3   CUS_Marital_Status                1249 non-null   object        \n",
      " 4   CUS_Customer_Since                1249 non-null   datetime64[ns]\n",
      " 5   YEARS_WITH_US                     1249 non-null   int64         \n",
      " 6   Total debit transactions for S1   1249 non-null   int64         \n",
      " 7   Total debit transactions for S2   1249 non-null   int64         \n",
      " 8   Total debit transactions for S3   1249 non-null   int64         \n",
      " 9   Total debit amount for S1         1249 non-null   float64       \n",
      " 10  Total debit amount for S2         1249 non-null   float64       \n",
      " 11  Total debit amount for S3         1249 non-null   float64       \n",
      " 12  Total credit transactions for S1  1249 non-null   int64         \n",
      " 13  Total credit transactions for S2  1249 non-null   int64         \n",
      " 14  Total credit transactions for S3  1249 non-null   int64         \n",
      " 15  Total credit amount for S1        1249 non-null   float64       \n",
      " 16  Total credit amount for S2        1249 non-null   float64       \n",
      " 17  Total credit amount for S3        1249 non-null   float64       \n",
      " 18  Total debit amount                1249 non-null   float64       \n",
      " 19  Total debit transactions          1249 non-null   int64         \n",
      " 20  Total credit amount               1249 non-null   float64       \n",
      " 21  Total credit transactions         1249 non-null   int64         \n",
      " 22  Total transactions                1249 non-null   int64         \n",
      " 23  CUS_Target                        1249 non-null   int64         \n",
      " 24  TAR_Desc                          1249 non-null   object        \n",
      " 25  Status                            1249 non-null   object        \n",
      " 26  DOB_YEAR                          1249 non-null   int64         \n",
      " 27  DOB_MONTH                         1249 non-null   int64         \n",
      " 28  DOB_DATE                          1249 non-null   int64         \n",
      "dtypes: datetime64[ns](1), float64(9), int32(1), int64(15), object(3)\n",
      "memory usage: 278.2+ KB\n"
     ]
    }
   ],
   "source": [
    "df.info()"
   ]
  },
  {
   "cell_type": "code",
   "execution_count": 16,
   "id": "d8b2e6c3",
   "metadata": {},
   "outputs": [
    {
     "data": {
      "text/plain": [
       "SINGLE     879\n",
       "MARRIED    328\n",
       "DIVORCE     30\n",
       "WIDOWED     10\n",
       "OTHER        1\n",
       "PARTNER      1\n",
       "Name: CUS_Marital_Status, dtype: int64"
      ]
     },
     "execution_count": 16,
     "metadata": {},
     "output_type": "execute_result"
    }
   ],
   "source": [
    "df['CUS_Marital_Status'].value_counts()"
   ]
  },
  {
   "cell_type": "code",
   "execution_count": 17,
   "id": "bbaf7ed1",
   "metadata": {},
   "outputs": [],
   "source": [
    "df['CUS_Marital_Status'].replace({'SINGLE':0,'MARRIED':1,'DIVORCE':2,'WIDOWED':3,'OTHER':4,'PARTNER':5},inplace=True)"
   ]
  },
  {
   "cell_type": "code",
   "execution_count": 18,
   "id": "6243f964",
   "metadata": {},
   "outputs": [
    {
     "name": "stdout",
     "output_type": "stream",
     "text": [
      "<class 'pandas.core.frame.DataFrame'>\n",
      "RangeIndex: 1249 entries, 0 to 1248\n",
      "Data columns (total 29 columns):\n",
      " #   Column                            Non-Null Count  Dtype         \n",
      "---  ------                            --------------  -----         \n",
      " 0   AGE                               1249 non-null   int64         \n",
      " 1   CUS_Month_Income                  1249 non-null   float64       \n",
      " 2   CUS_Gender                        1249 non-null   int32         \n",
      " 3   CUS_Marital_Status                1249 non-null   int64         \n",
      " 4   CUS_Customer_Since                1249 non-null   datetime64[ns]\n",
      " 5   YEARS_WITH_US                     1249 non-null   int64         \n",
      " 6   Total debit transactions for S1   1249 non-null   int64         \n",
      " 7   Total debit transactions for S2   1249 non-null   int64         \n",
      " 8   Total debit transactions for S3   1249 non-null   int64         \n",
      " 9   Total debit amount for S1         1249 non-null   float64       \n",
      " 10  Total debit amount for S2         1249 non-null   float64       \n",
      " 11  Total debit amount for S3         1249 non-null   float64       \n",
      " 12  Total credit transactions for S1  1249 non-null   int64         \n",
      " 13  Total credit transactions for S2  1249 non-null   int64         \n",
      " 14  Total credit transactions for S3  1249 non-null   int64         \n",
      " 15  Total credit amount for S1        1249 non-null   float64       \n",
      " 16  Total credit amount for S2        1249 non-null   float64       \n",
      " 17  Total credit amount for S3        1249 non-null   float64       \n",
      " 18  Total debit amount                1249 non-null   float64       \n",
      " 19  Total debit transactions          1249 non-null   int64         \n",
      " 20  Total credit amount               1249 non-null   float64       \n",
      " 21  Total credit transactions         1249 non-null   int64         \n",
      " 22  Total transactions                1249 non-null   int64         \n",
      " 23  CUS_Target                        1249 non-null   int64         \n",
      " 24  TAR_Desc                          1249 non-null   object        \n",
      " 25  Status                            1249 non-null   object        \n",
      " 26  DOB_YEAR                          1249 non-null   int64         \n",
      " 27  DOB_MONTH                         1249 non-null   int64         \n",
      " 28  DOB_DATE                          1249 non-null   int64         \n",
      "dtypes: datetime64[ns](1), float64(9), int32(1), int64(16), object(2)\n",
      "memory usage: 278.2+ KB\n"
     ]
    }
   ],
   "source": [
    "df.info()"
   ]
  },
  {
   "cell_type": "code",
   "execution_count": 19,
   "id": "86b35194",
   "metadata": {},
   "outputs": [
    {
     "data": {
      "text/plain": [
       "0      1994-06-30\n",
       "1      2005-05-19\n",
       "2      2005-05-20\n",
       "3      2005-05-20\n",
       "4      2014-06-30\n",
       "          ...    \n",
       "1244   2005-07-25\n",
       "1245   2005-07-27\n",
       "1246   2005-07-25\n",
       "1247   2005-07-26\n",
       "1248   2005-07-26\n",
       "Name: CUS_Customer_Since, Length: 1249, dtype: datetime64[ns]"
      ]
     },
     "execution_count": 19,
     "metadata": {},
     "output_type": "execute_result"
    }
   ],
   "source": [
    "df['CUS_Customer_Since']"
   ]
  },
  {
   "cell_type": "code",
   "execution_count": 20,
   "id": "0448a8c9",
   "metadata": {},
   "outputs": [],
   "source": [
    "df['CUS_SINCE_YEAR'] = df['CUS_Customer_Since'].dt.year\n",
    "df['CUS_SINCE_MONTH'] = df['CUS_Customer_Since'].dt.month\n",
    "df['CUS_SINCE_DAY'] = df['CUS_Customer_Since'].dt.day"
   ]
  },
  {
   "cell_type": "code",
   "execution_count": 21,
   "id": "842f0e89",
   "metadata": {},
   "outputs": [
    {
     "data": {
      "text/html": [
       "<div>\n",
       "<style scoped>\n",
       "    .dataframe tbody tr th:only-of-type {\n",
       "        vertical-align: middle;\n",
       "    }\n",
       "\n",
       "    .dataframe tbody tr th {\n",
       "        vertical-align: top;\n",
       "    }\n",
       "\n",
       "    .dataframe thead th {\n",
       "        text-align: right;\n",
       "    }\n",
       "</style>\n",
       "<table border=\"1\" class=\"dataframe\">\n",
       "  <thead>\n",
       "    <tr style=\"text-align: right;\">\n",
       "      <th></th>\n",
       "      <th>AGE</th>\n",
       "      <th>CUS_Month_Income</th>\n",
       "      <th>CUS_Gender</th>\n",
       "      <th>CUS_Marital_Status</th>\n",
       "      <th>CUS_Customer_Since</th>\n",
       "      <th>YEARS_WITH_US</th>\n",
       "      <th>Total debit transactions for S1</th>\n",
       "      <th>Total debit transactions for S2</th>\n",
       "      <th>Total debit transactions for S3</th>\n",
       "      <th>Total debit amount for S1</th>\n",
       "      <th>...</th>\n",
       "      <th>Total transactions</th>\n",
       "      <th>CUS_Target</th>\n",
       "      <th>TAR_Desc</th>\n",
       "      <th>Status</th>\n",
       "      <th>DOB_YEAR</th>\n",
       "      <th>DOB_MONTH</th>\n",
       "      <th>DOB_DATE</th>\n",
       "      <th>CUS_SINCE_YEAR</th>\n",
       "      <th>CUS_SINCE_MONTH</th>\n",
       "      <th>CUS_SINCE_DAY</th>\n",
       "    </tr>\n",
       "  </thead>\n",
       "  <tbody>\n",
       "    <tr>\n",
       "      <th>0</th>\n",
       "      <td>49</td>\n",
       "      <td>7116.64</td>\n",
       "      <td>0</td>\n",
       "      <td>1</td>\n",
       "      <td>1994-06-30</td>\n",
       "      <td>25</td>\n",
       "      <td>277</td>\n",
       "      <td>265</td>\n",
       "      <td>345</td>\n",
       "      <td>1459126.64</td>\n",
       "      <td>...</td>\n",
       "      <td>952</td>\n",
       "      <td>2231</td>\n",
       "      <td>EXECUTIVE</td>\n",
       "      <td>ACTIVE</td>\n",
       "      <td>1970</td>\n",
       "      <td>2</td>\n",
       "      <td>13</td>\n",
       "      <td>1994</td>\n",
       "      <td>6</td>\n",
       "      <td>30</td>\n",
       "    </tr>\n",
       "    <tr>\n",
       "      <th>1</th>\n",
       "      <td>46</td>\n",
       "      <td>1500000.00</td>\n",
       "      <td>1</td>\n",
       "      <td>0</td>\n",
       "      <td>2005-05-19</td>\n",
       "      <td>14</td>\n",
       "      <td>37</td>\n",
       "      <td>15</td>\n",
       "      <td>45</td>\n",
       "      <td>35372.55</td>\n",
       "      <td>...</td>\n",
       "      <td>107</td>\n",
       "      <td>2223</td>\n",
       "      <td>LOW</td>\n",
       "      <td>ACTIVE</td>\n",
       "      <td>1973</td>\n",
       "      <td>9</td>\n",
       "      <td>20</td>\n",
       "      <td>2005</td>\n",
       "      <td>5</td>\n",
       "      <td>19</td>\n",
       "    </tr>\n",
       "    <tr>\n",
       "      <th>2</th>\n",
       "      <td>53</td>\n",
       "      <td>5000000.00</td>\n",
       "      <td>1</td>\n",
       "      <td>0</td>\n",
       "      <td>2005-05-20</td>\n",
       "      <td>14</td>\n",
       "      <td>31</td>\n",
       "      <td>14</td>\n",
       "      <td>8</td>\n",
       "      <td>28248.85</td>\n",
       "      <td>...</td>\n",
       "      <td>80</td>\n",
       "      <td>2222</td>\n",
       "      <td>MIDLE</td>\n",
       "      <td>ACTIVE</td>\n",
       "      <td>1966</td>\n",
       "      <td>7</td>\n",
       "      <td>18</td>\n",
       "      <td>2005</td>\n",
       "      <td>5</td>\n",
       "      <td>20</td>\n",
       "    </tr>\n",
       "    <tr>\n",
       "      <th>3</th>\n",
       "      <td>15</td>\n",
       "      <td>500.00</td>\n",
       "      <td>1</td>\n",
       "      <td>0</td>\n",
       "      <td>2005-05-20</td>\n",
       "      <td>14</td>\n",
       "      <td>0</td>\n",
       "      <td>1</td>\n",
       "      <td>0</td>\n",
       "      <td>0.00</td>\n",
       "      <td>...</td>\n",
       "      <td>13</td>\n",
       "      <td>2223</td>\n",
       "      <td>LOW</td>\n",
       "      <td>ACTIVE</td>\n",
       "      <td>2004</td>\n",
       "      <td>1</td>\n",
       "      <td>9</td>\n",
       "      <td>2005</td>\n",
       "      <td>5</td>\n",
       "      <td>20</td>\n",
       "    </tr>\n",
       "    <tr>\n",
       "      <th>4</th>\n",
       "      <td>48</td>\n",
       "      <td>9000000.00</td>\n",
       "      <td>1</td>\n",
       "      <td>0</td>\n",
       "      <td>2014-06-30</td>\n",
       "      <td>5</td>\n",
       "      <td>15</td>\n",
       "      <td>33</td>\n",
       "      <td>12</td>\n",
       "      <td>69083.38</td>\n",
       "      <td>...</td>\n",
       "      <td>81</td>\n",
       "      <td>2223</td>\n",
       "      <td>LOW</td>\n",
       "      <td>ACTIVE</td>\n",
       "      <td>1971</td>\n",
       "      <td>3</td>\n",
       "      <td>7</td>\n",
       "      <td>2014</td>\n",
       "      <td>6</td>\n",
       "      <td>30</td>\n",
       "    </tr>\n",
       "  </tbody>\n",
       "</table>\n",
       "<p>5 rows × 32 columns</p>\n",
       "</div>"
      ],
      "text/plain": [
       "   AGE  CUS_Month_Income  CUS_Gender  CUS_Marital_Status CUS_Customer_Since  \\\n",
       "0   49           7116.64           0                   1         1994-06-30   \n",
       "1   46        1500000.00           1                   0         2005-05-19   \n",
       "2   53        5000000.00           1                   0         2005-05-20   \n",
       "3   15            500.00           1                   0         2005-05-20   \n",
       "4   48        9000000.00           1                   0         2014-06-30   \n",
       "\n",
       "   YEARS_WITH_US  Total debit transactions for S1  \\\n",
       "0             25                              277   \n",
       "1             14                               37   \n",
       "2             14                               31   \n",
       "3             14                                0   \n",
       "4              5                               15   \n",
       "\n",
       "   Total debit transactions for S2  Total debit transactions for S3  \\\n",
       "0                              265                              345   \n",
       "1                               15                               45   \n",
       "2                               14                                8   \n",
       "3                                1                                0   \n",
       "4                               33                               12   \n",
       "\n",
       "   Total debit amount for S1  ...  Total transactions  CUS_Target   TAR_Desc  \\\n",
       "0                 1459126.64  ...                 952        2231  EXECUTIVE   \n",
       "1                   35372.55  ...                 107        2223        LOW   \n",
       "2                   28248.85  ...                  80        2222      MIDLE   \n",
       "3                       0.00  ...                  13        2223        LOW   \n",
       "4                   69083.38  ...                  81        2223        LOW   \n",
       "\n",
       "   Status  DOB_YEAR  DOB_MONTH  DOB_DATE  CUS_SINCE_YEAR  CUS_SINCE_MONTH  \\\n",
       "0  ACTIVE      1970          2        13            1994                6   \n",
       "1  ACTIVE      1973          9        20            2005                5   \n",
       "2  ACTIVE      1966          7        18            2005                5   \n",
       "3  ACTIVE      2004          1         9            2005                5   \n",
       "4  ACTIVE      1971          3         7            2014                6   \n",
       "\n",
       "   CUS_SINCE_DAY  \n",
       "0             30  \n",
       "1             19  \n",
       "2             20  \n",
       "3             20  \n",
       "4             30  \n",
       "\n",
       "[5 rows x 32 columns]"
      ]
     },
     "execution_count": 21,
     "metadata": {},
     "output_type": "execute_result"
    }
   ],
   "source": [
    "df.head()"
   ]
  },
  {
   "cell_type": "code",
   "execution_count": 22,
   "id": "2acd3783",
   "metadata": {},
   "outputs": [],
   "source": [
    "df.drop('CUS_Customer_Since',axis=1,inplace=True)"
   ]
  },
  {
   "cell_type": "code",
   "execution_count": 23,
   "id": "dde29b74",
   "metadata": {},
   "outputs": [
    {
     "name": "stdout",
     "output_type": "stream",
     "text": [
      "<class 'pandas.core.frame.DataFrame'>\n",
      "RangeIndex: 1249 entries, 0 to 1248\n",
      "Data columns (total 31 columns):\n",
      " #   Column                            Non-Null Count  Dtype  \n",
      "---  ------                            --------------  -----  \n",
      " 0   AGE                               1249 non-null   int64  \n",
      " 1   CUS_Month_Income                  1249 non-null   float64\n",
      " 2   CUS_Gender                        1249 non-null   int32  \n",
      " 3   CUS_Marital_Status                1249 non-null   int64  \n",
      " 4   YEARS_WITH_US                     1249 non-null   int64  \n",
      " 5   Total debit transactions for S1   1249 non-null   int64  \n",
      " 6   Total debit transactions for S2   1249 non-null   int64  \n",
      " 7   Total debit transactions for S3   1249 non-null   int64  \n",
      " 8   Total debit amount for S1         1249 non-null   float64\n",
      " 9   Total debit amount for S2         1249 non-null   float64\n",
      " 10  Total debit amount for S3         1249 non-null   float64\n",
      " 11  Total credit transactions for S1  1249 non-null   int64  \n",
      " 12  Total credit transactions for S2  1249 non-null   int64  \n",
      " 13  Total credit transactions for S3  1249 non-null   int64  \n",
      " 14  Total credit amount for S1        1249 non-null   float64\n",
      " 15  Total credit amount for S2        1249 non-null   float64\n",
      " 16  Total credit amount for S3        1249 non-null   float64\n",
      " 17  Total debit amount                1249 non-null   float64\n",
      " 18  Total debit transactions          1249 non-null   int64  \n",
      " 19  Total credit amount               1249 non-null   float64\n",
      " 20  Total credit transactions         1249 non-null   int64  \n",
      " 21  Total transactions                1249 non-null   int64  \n",
      " 22  CUS_Target                        1249 non-null   int64  \n",
      " 23  TAR_Desc                          1249 non-null   object \n",
      " 24  Status                            1249 non-null   object \n",
      " 25  DOB_YEAR                          1249 non-null   int64  \n",
      " 26  DOB_MONTH                         1249 non-null   int64  \n",
      " 27  DOB_DATE                          1249 non-null   int64  \n",
      " 28  CUS_SINCE_YEAR                    1249 non-null   int64  \n",
      " 29  CUS_SINCE_MONTH                   1249 non-null   int64  \n",
      " 30  CUS_SINCE_DAY                     1249 non-null   int64  \n",
      "dtypes: float64(9), int32(1), int64(19), object(2)\n",
      "memory usage: 297.7+ KB\n"
     ]
    }
   ],
   "source": [
    "df.info()"
   ]
  },
  {
   "cell_type": "code",
   "execution_count": 24,
   "id": "b0c2d2f5",
   "metadata": {},
   "outputs": [
    {
     "data": {
      "text/plain": [
       "LOW          753\n",
       "MIDLE        406\n",
       "EXECUTIVE     59\n",
       "PLATINUM      31\n",
       "Name: TAR_Desc, dtype: int64"
      ]
     },
     "execution_count": 24,
     "metadata": {},
     "output_type": "execute_result"
    }
   ],
   "source": [
    "df['TAR_Desc'].value_counts()"
   ]
  },
  {
   "cell_type": "code",
   "execution_count": 25,
   "id": "a6ae9e2c",
   "metadata": {},
   "outputs": [],
   "source": [
    "df['TAR_Desc'].replace({'LOW':0,'MIDLE':1,'EXECUTIVE':2,'PLATINUM':3},inplace=True)"
   ]
  },
  {
   "cell_type": "code",
   "execution_count": 26,
   "id": "c8a56af0",
   "metadata": {},
   "outputs": [
    {
     "data": {
      "text/plain": [
       "array([2, 0, 1, 3], dtype=int64)"
      ]
     },
     "execution_count": 26,
     "metadata": {},
     "output_type": "execute_result"
    }
   ],
   "source": [
    "df['TAR_Desc'].unique()"
   ]
  },
  {
   "cell_type": "code",
   "execution_count": 27,
   "id": "8062dcd5",
   "metadata": {},
   "outputs": [
    {
     "data": {
      "text/plain": [
       "ACTIVE    1022\n",
       "CHURN      227\n",
       "Name: Status, dtype: int64"
      ]
     },
     "execution_count": 27,
     "metadata": {},
     "output_type": "execute_result"
    }
   ],
   "source": [
    "df['Status'].value_counts()"
   ]
  },
  {
   "cell_type": "code",
   "execution_count": 28,
   "id": "8121243d",
   "metadata": {},
   "outputs": [],
   "source": [
    "df['Status'].replace({'ACTIVE':1,'CHURN':0},inplace=True)"
   ]
  },
  {
   "cell_type": "code",
   "execution_count": 29,
   "id": "6c7f79bb",
   "metadata": {},
   "outputs": [
    {
     "name": "stdout",
     "output_type": "stream",
     "text": [
      "<class 'pandas.core.frame.DataFrame'>\n",
      "RangeIndex: 1249 entries, 0 to 1248\n",
      "Data columns (total 31 columns):\n",
      " #   Column                            Non-Null Count  Dtype  \n",
      "---  ------                            --------------  -----  \n",
      " 0   AGE                               1249 non-null   int64  \n",
      " 1   CUS_Month_Income                  1249 non-null   float64\n",
      " 2   CUS_Gender                        1249 non-null   int32  \n",
      " 3   CUS_Marital_Status                1249 non-null   int64  \n",
      " 4   YEARS_WITH_US                     1249 non-null   int64  \n",
      " 5   Total debit transactions for S1   1249 non-null   int64  \n",
      " 6   Total debit transactions for S2   1249 non-null   int64  \n",
      " 7   Total debit transactions for S3   1249 non-null   int64  \n",
      " 8   Total debit amount for S1         1249 non-null   float64\n",
      " 9   Total debit amount for S2         1249 non-null   float64\n",
      " 10  Total debit amount for S3         1249 non-null   float64\n",
      " 11  Total credit transactions for S1  1249 non-null   int64  \n",
      " 12  Total credit transactions for S2  1249 non-null   int64  \n",
      " 13  Total credit transactions for S3  1249 non-null   int64  \n",
      " 14  Total credit amount for S1        1249 non-null   float64\n",
      " 15  Total credit amount for S2        1249 non-null   float64\n",
      " 16  Total credit amount for S3        1249 non-null   float64\n",
      " 17  Total debit amount                1249 non-null   float64\n",
      " 18  Total debit transactions          1249 non-null   int64  \n",
      " 19  Total credit amount               1249 non-null   float64\n",
      " 20  Total credit transactions         1249 non-null   int64  \n",
      " 21  Total transactions                1249 non-null   int64  \n",
      " 22  CUS_Target                        1249 non-null   int64  \n",
      " 23  TAR_Desc                          1249 non-null   int64  \n",
      " 24  Status                            1249 non-null   int64  \n",
      " 25  DOB_YEAR                          1249 non-null   int64  \n",
      " 26  DOB_MONTH                         1249 non-null   int64  \n",
      " 27  DOB_DATE                          1249 non-null   int64  \n",
      " 28  CUS_SINCE_YEAR                    1249 non-null   int64  \n",
      " 29  CUS_SINCE_MONTH                   1249 non-null   int64  \n",
      " 30  CUS_SINCE_DAY                     1249 non-null   int64  \n",
      "dtypes: float64(9), int32(1), int64(21)\n",
      "memory usage: 297.7 KB\n"
     ]
    }
   ],
   "source": [
    "df.info()"
   ]
  },
  {
   "cell_type": "code",
   "execution_count": 30,
   "id": "3c2798ae",
   "metadata": {},
   "outputs": [],
   "source": [
    "X = df.drop('Status', axis=1)\n",
    "y = df['Status']"
   ]
  },
  {
   "cell_type": "code",
   "execution_count": 31,
   "id": "3342349d",
   "metadata": {},
   "outputs": [
    {
     "data": {
      "text/html": [
       "<div>\n",
       "<style scoped>\n",
       "    .dataframe tbody tr th:only-of-type {\n",
       "        vertical-align: middle;\n",
       "    }\n",
       "\n",
       "    .dataframe tbody tr th {\n",
       "        vertical-align: top;\n",
       "    }\n",
       "\n",
       "    .dataframe thead th {\n",
       "        text-align: right;\n",
       "    }\n",
       "</style>\n",
       "<table border=\"1\" class=\"dataframe\">\n",
       "  <thead>\n",
       "    <tr style=\"text-align: right;\">\n",
       "      <th></th>\n",
       "      <th>AGE</th>\n",
       "      <th>CUS_Month_Income</th>\n",
       "      <th>CUS_Gender</th>\n",
       "      <th>CUS_Marital_Status</th>\n",
       "      <th>YEARS_WITH_US</th>\n",
       "      <th>Total debit transactions for S1</th>\n",
       "      <th>Total debit transactions for S2</th>\n",
       "      <th>Total debit transactions for S3</th>\n",
       "      <th>Total debit amount for S1</th>\n",
       "      <th>Total debit amount for S2</th>\n",
       "      <th>...</th>\n",
       "      <th>Total credit transactions</th>\n",
       "      <th>Total transactions</th>\n",
       "      <th>CUS_Target</th>\n",
       "      <th>TAR_Desc</th>\n",
       "      <th>DOB_YEAR</th>\n",
       "      <th>DOB_MONTH</th>\n",
       "      <th>DOB_DATE</th>\n",
       "      <th>CUS_SINCE_YEAR</th>\n",
       "      <th>CUS_SINCE_MONTH</th>\n",
       "      <th>CUS_SINCE_DAY</th>\n",
       "    </tr>\n",
       "  </thead>\n",
       "  <tbody>\n",
       "    <tr>\n",
       "      <th>0</th>\n",
       "      <td>49</td>\n",
       "      <td>7116.64</td>\n",
       "      <td>0</td>\n",
       "      <td>1</td>\n",
       "      <td>25</td>\n",
       "      <td>277</td>\n",
       "      <td>265</td>\n",
       "      <td>345</td>\n",
       "      <td>1459126.64</td>\n",
       "      <td>1230543.08</td>\n",
       "      <td>...</td>\n",
       "      <td>65</td>\n",
       "      <td>952</td>\n",
       "      <td>2231</td>\n",
       "      <td>2</td>\n",
       "      <td>1970</td>\n",
       "      <td>2</td>\n",
       "      <td>13</td>\n",
       "      <td>1994</td>\n",
       "      <td>6</td>\n",
       "      <td>30</td>\n",
       "    </tr>\n",
       "    <tr>\n",
       "      <th>1</th>\n",
       "      <td>46</td>\n",
       "      <td>1500000.00</td>\n",
       "      <td>1</td>\n",
       "      <td>0</td>\n",
       "      <td>14</td>\n",
       "      <td>37</td>\n",
       "      <td>15</td>\n",
       "      <td>45</td>\n",
       "      <td>35372.55</td>\n",
       "      <td>20134.00</td>\n",
       "      <td>...</td>\n",
       "      <td>10</td>\n",
       "      <td>107</td>\n",
       "      <td>2223</td>\n",
       "      <td>0</td>\n",
       "      <td>1973</td>\n",
       "      <td>9</td>\n",
       "      <td>20</td>\n",
       "      <td>2005</td>\n",
       "      <td>5</td>\n",
       "      <td>19</td>\n",
       "    </tr>\n",
       "    <tr>\n",
       "      <th>2</th>\n",
       "      <td>53</td>\n",
       "      <td>5000000.00</td>\n",
       "      <td>1</td>\n",
       "      <td>0</td>\n",
       "      <td>14</td>\n",
       "      <td>31</td>\n",
       "      <td>14</td>\n",
       "      <td>8</td>\n",
       "      <td>28248.85</td>\n",
       "      <td>4777.66</td>\n",
       "      <td>...</td>\n",
       "      <td>27</td>\n",
       "      <td>80</td>\n",
       "      <td>2222</td>\n",
       "      <td>1</td>\n",
       "      <td>1966</td>\n",
       "      <td>7</td>\n",
       "      <td>18</td>\n",
       "      <td>2005</td>\n",
       "      <td>5</td>\n",
       "      <td>20</td>\n",
       "    </tr>\n",
       "    <tr>\n",
       "      <th>3</th>\n",
       "      <td>15</td>\n",
       "      <td>500.00</td>\n",
       "      <td>1</td>\n",
       "      <td>0</td>\n",
       "      <td>14</td>\n",
       "      <td>0</td>\n",
       "      <td>1</td>\n",
       "      <td>0</td>\n",
       "      <td>0.00</td>\n",
       "      <td>4000.00</td>\n",
       "      <td>...</td>\n",
       "      <td>12</td>\n",
       "      <td>13</td>\n",
       "      <td>2223</td>\n",
       "      <td>0</td>\n",
       "      <td>2004</td>\n",
       "      <td>1</td>\n",
       "      <td>9</td>\n",
       "      <td>2005</td>\n",
       "      <td>5</td>\n",
       "      <td>20</td>\n",
       "    </tr>\n",
       "    <tr>\n",
       "      <th>4</th>\n",
       "      <td>48</td>\n",
       "      <td>9000000.00</td>\n",
       "      <td>1</td>\n",
       "      <td>0</td>\n",
       "      <td>5</td>\n",
       "      <td>15</td>\n",
       "      <td>33</td>\n",
       "      <td>12</td>\n",
       "      <td>69083.38</td>\n",
       "      <td>223007.51</td>\n",
       "      <td>...</td>\n",
       "      <td>21</td>\n",
       "      <td>81</td>\n",
       "      <td>2223</td>\n",
       "      <td>0</td>\n",
       "      <td>1971</td>\n",
       "      <td>3</td>\n",
       "      <td>7</td>\n",
       "      <td>2014</td>\n",
       "      <td>6</td>\n",
       "      <td>30</td>\n",
       "    </tr>\n",
       "  </tbody>\n",
       "</table>\n",
       "<p>5 rows × 30 columns</p>\n",
       "</div>"
      ],
      "text/plain": [
       "   AGE  CUS_Month_Income  CUS_Gender  CUS_Marital_Status  YEARS_WITH_US  \\\n",
       "0   49           7116.64           0                   1             25   \n",
       "1   46        1500000.00           1                   0             14   \n",
       "2   53        5000000.00           1                   0             14   \n",
       "3   15            500.00           1                   0             14   \n",
       "4   48        9000000.00           1                   0              5   \n",
       "\n",
       "   Total debit transactions for S1  Total debit transactions for S2  \\\n",
       "0                              277                              265   \n",
       "1                               37                               15   \n",
       "2                               31                               14   \n",
       "3                                0                                1   \n",
       "4                               15                               33   \n",
       "\n",
       "   Total debit transactions for S3  Total debit amount for S1  \\\n",
       "0                              345                 1459126.64   \n",
       "1                               45                   35372.55   \n",
       "2                                8                   28248.85   \n",
       "3                                0                       0.00   \n",
       "4                               12                   69083.38   \n",
       "\n",
       "   Total debit amount for S2  ...  Total credit transactions  \\\n",
       "0                 1230543.08  ...                         65   \n",
       "1                   20134.00  ...                         10   \n",
       "2                    4777.66  ...                         27   \n",
       "3                    4000.00  ...                         12   \n",
       "4                  223007.51  ...                         21   \n",
       "\n",
       "   Total transactions  CUS_Target  TAR_Desc  DOB_YEAR  DOB_MONTH  DOB_DATE  \\\n",
       "0                 952        2231         2      1970          2        13   \n",
       "1                 107        2223         0      1973          9        20   \n",
       "2                  80        2222         1      1966          7        18   \n",
       "3                  13        2223         0      2004          1         9   \n",
       "4                  81        2223         0      1971          3         7   \n",
       "\n",
       "   CUS_SINCE_YEAR  CUS_SINCE_MONTH  CUS_SINCE_DAY  \n",
       "0            1994                6             30  \n",
       "1            2005                5             19  \n",
       "2            2005                5             20  \n",
       "3            2005                5             20  \n",
       "4            2014                6             30  \n",
       "\n",
       "[5 rows x 30 columns]"
      ]
     },
     "execution_count": 31,
     "metadata": {},
     "output_type": "execute_result"
    }
   ],
   "source": [
    "X.head()"
   ]
  },
  {
   "cell_type": "code",
   "execution_count": 32,
   "id": "5e49bbf3",
   "metadata": {},
   "outputs": [
    {
     "data": {
      "text/plain": [
       "0       1\n",
       "1       1\n",
       "2       1\n",
       "3       1\n",
       "4       1\n",
       "       ..\n",
       "1244    0\n",
       "1245    1\n",
       "1246    1\n",
       "1247    1\n",
       "1248    1\n",
       "Name: Status, Length: 1249, dtype: int64"
      ]
     },
     "execution_count": 32,
     "metadata": {},
     "output_type": "execute_result"
    }
   ],
   "source": [
    "y"
   ]
  },
  {
   "cell_type": "code",
   "execution_count": 33,
   "id": "e7935c7f",
   "metadata": {},
   "outputs": [],
   "source": [
    "from sklearn.model_selection import train_test_split"
   ]
  },
  {
   "cell_type": "code",
   "execution_count": 34,
   "id": "54fb2d3f",
   "metadata": {},
   "outputs": [],
   "source": [
    "X_train,X_test,y_train,y_test = train_test_split(X,y,test_size=0.2,random_state=42)"
   ]
  },
  {
   "cell_type": "code",
   "execution_count": 35,
   "id": "52cf349b",
   "metadata": {},
   "outputs": [
    {
     "data": {
      "text/plain": [
       "(999, 30)"
      ]
     },
     "execution_count": 35,
     "metadata": {},
     "output_type": "execute_result"
    }
   ],
   "source": [
    "X_train.shape"
   ]
  },
  {
   "cell_type": "code",
   "execution_count": 36,
   "id": "bb683deb",
   "metadata": {},
   "outputs": [
    {
     "data": {
      "text/plain": [
       "(250, 30)"
      ]
     },
     "execution_count": 36,
     "metadata": {},
     "output_type": "execute_result"
    }
   ],
   "source": [
    "X_test.shape"
   ]
  },
  {
   "cell_type": "code",
   "execution_count": 37,
   "id": "d3a1728d",
   "metadata": {},
   "outputs": [],
   "source": [
    "from sklearn.ensemble import RandomForestClassifier"
   ]
  },
  {
   "cell_type": "code",
   "execution_count": 38,
   "id": "13991c7d",
   "metadata": {},
   "outputs": [],
   "source": [
    "RFC = RandomForestClassifier()"
   ]
  },
  {
   "cell_type": "code",
   "execution_count": 39,
   "id": "3cdc908a",
   "metadata": {},
   "outputs": [],
   "source": [
    "RFC.fit(X_train,y_train)\n",
    "y_pred = RFC.predict(X_test)"
   ]
  },
  {
   "cell_type": "code",
   "execution_count": 40,
   "id": "7ae0d7b4",
   "metadata": {},
   "outputs": [],
   "source": [
    "from sklearn.metrics import accuracy_score"
   ]
  },
  {
   "cell_type": "code",
   "execution_count": 41,
   "id": "ee2796e0",
   "metadata": {},
   "outputs": [
    {
     "data": {
      "text/plain": [
       "0.86"
      ]
     },
     "execution_count": 41,
     "metadata": {},
     "output_type": "execute_result"
    }
   ],
   "source": [
    "accuracy_score(y_test,y_pred)"
   ]
  },
  {
   "cell_type": "code",
   "execution_count": 42,
   "id": "2c1f54d2",
   "metadata": {},
   "outputs": [
    {
     "name": "stderr",
     "output_type": "stream",
     "text": [
      "C:\\Users\\lenovo\\anaconda3\\lib\\site-packages\\sklearn\\base.py:450: UserWarning: X does not have valid feature names, but RandomForestClassifier was fitted with feature names\n",
      "  warnings.warn(\n"
     ]
    },
    {
     "data": {
      "text/plain": [
       "array([1], dtype=int64)"
      ]
     },
     "execution_count": 42,
     "metadata": {},
     "output_type": "execute_result"
    }
   ],
   "source": [
    "RFC.predict(np.array([49,7116.64,0,1,25,277,265,345,1459126.64,1230543.08,2068641.91,10,24,31,1516981.1,1764079.61,2378592.62,4758311.63,887,5659653.33,65,952,2231,2,1970,2,13,1994,6,30]).reshape(1,30))"
   ]
  },
  {
   "cell_type": "code",
   "execution_count": 43,
   "id": "e58a2db3",
   "metadata": {},
   "outputs": [],
   "source": [
    "from sklearn.ensemble import GradientBoostingClassifier\n",
    "GBC = GradientBoostingClassifier()"
   ]
  },
  {
   "cell_type": "code",
   "execution_count": 44,
   "id": "e34c7405",
   "metadata": {},
   "outputs": [],
   "source": [
    "GBC.fit(X_train,y_train)\n",
    "y_pred = GBC.predict(X_test)"
   ]
  },
  {
   "cell_type": "code",
   "execution_count": 45,
   "id": "e10e62f4",
   "metadata": {},
   "outputs": [
    {
     "data": {
      "text/plain": [
       "0.864"
      ]
     },
     "execution_count": 45,
     "metadata": {},
     "output_type": "execute_result"
    }
   ],
   "source": [
    "accuracy_score(y_test,y_pred)"
   ]
  },
  {
   "cell_type": "code",
   "execution_count": 46,
   "id": "b1086a30",
   "metadata": {},
   "outputs": [
    {
     "data": {
      "text/plain": [
       "0.808"
      ]
     },
     "execution_count": 46,
     "metadata": {},
     "output_type": "execute_result"
    }
   ],
   "source": [
    "from sklearn.svm import SVC\n",
    "svc = SVC()\n",
    "svc.fit(X_train,y_train)\n",
    "y_pred = svc.predict(X_test)\n",
    "accuracy_score(y_test,y_pred)"
   ]
  },
  {
   "cell_type": "code",
   "execution_count": 47,
   "id": "5f3bb6b5",
   "metadata": {},
   "outputs": [],
   "source": [
    "from sklearn.linear_model import LogisticRegression"
   ]
  },
  {
   "cell_type": "code",
   "execution_count": 48,
   "id": "d997392f",
   "metadata": {},
   "outputs": [
    {
     "name": "stderr",
     "output_type": "stream",
     "text": [
      "C:\\Users\\lenovo\\anaconda3\\lib\\site-packages\\sklearn\\linear_model\\_logistic.py:814: ConvergenceWarning: lbfgs failed to converge (status=1):\n",
      "STOP: TOTAL NO. of ITERATIONS REACHED LIMIT.\n",
      "\n",
      "Increase the number of iterations (max_iter) or scale the data as shown in:\n",
      "    https://scikit-learn.org/stable/modules/preprocessing.html\n",
      "Please also refer to the documentation for alternative solver options:\n",
      "    https://scikit-learn.org/stable/modules/linear_model.html#logistic-regression\n",
      "  n_iter_i = _check_optimize_result(\n"
     ]
    },
    {
     "data": {
      "text/plain": [
       "81.2"
      ]
     },
     "execution_count": 48,
     "metadata": {},
     "output_type": "execute_result"
    }
   ],
   "source": [
    "LR = LogisticRegression()\n",
    "LR.fit(X_train,y_train)\n",
    "y_pred = LR.predict(X_test)\n",
    "accuracy_score(y_test,y_pred)*100"
   ]
  },
  {
   "cell_type": "code",
   "execution_count": 49,
   "id": "6e71e1e0",
   "metadata": {},
   "outputs": [],
   "source": [
    "from sklearn.ensemble import AdaBoostClassifier"
   ]
  },
  {
   "cell_type": "code",
   "execution_count": 50,
   "id": "538f4c36",
   "metadata": {},
   "outputs": [],
   "source": [
    "ABC = AdaBoostClassifier()"
   ]
  },
  {
   "cell_type": "code",
   "execution_count": 51,
   "id": "0a1171ae",
   "metadata": {},
   "outputs": [
    {
     "data": {
      "text/plain": [
       "87.2"
      ]
     },
     "execution_count": 51,
     "metadata": {},
     "output_type": "execute_result"
    }
   ],
   "source": [
    "ABC.fit(X_train,y_train)\n",
    "y_pred = ABC.predict(X_test)\n",
    "accuracy_score(y_test,y_pred)*100"
   ]
  },
  {
   "cell_type": "code",
   "execution_count": 52,
   "id": "53bbdbf5",
   "metadata": {},
   "outputs": [
    {
     "name": "stderr",
     "output_type": "stream",
     "text": [
      "C:\\Users\\lenovo\\anaconda3\\lib\\site-packages\\sklearn\\base.py:450: UserWarning: X does not have valid feature names, but AdaBoostClassifier was fitted with feature names\n",
      "  warnings.warn(\n"
     ]
    },
    {
     "data": {
      "text/plain": [
       "array([1], dtype=int64)"
      ]
     },
     "execution_count": 52,
     "metadata": {},
     "output_type": "execute_result"
    }
   ],
   "source": [
    "ABC.predict(np.array([49,7116.64,0,1,25,277,265,345,1459126.64,1230543.08,2068641.91,10,24,31,1516981.1,1764079.61,2378592.62,4758311.63,887,5659653.33,65,952,2231,2,1970,2,13,1994,6,30]).reshape(1,30))"
   ]
  },
  {
   "cell_type": "code",
   "execution_count": 53,
   "id": "c5989e9b",
   "metadata": {},
   "outputs": [],
   "source": [
    "#ABC.predict(np.array([ ]).reshape(1,30))"
   ]
  },
  {
   "cell_type": "code",
   "execution_count": 54,
   "id": "906edb2d",
   "metadata": {},
   "outputs": [],
   "source": [
    "#re_df =  pd.read_excel('Recommed.xlsx')\n",
    "#re_df.head()"
   ]
  },
  {
   "cell_type": "code",
   "execution_count": 55,
   "id": "9c77ef26",
   "metadata": {},
   "outputs": [],
   "source": [
    "#re_df.info()"
   ]
  },
  {
   "cell_type": "code",
   "execution_count": 56,
   "id": "645861ad",
   "metadata": {},
   "outputs": [],
   "source": [
    "#re_df['CUS_Gender'].replace({'MALE':0,'FEMALE':1},inplace=True)"
   ]
  },
  {
   "cell_type": "code",
   "execution_count": 57,
   "id": "38076fc8",
   "metadata": {},
   "outputs": [],
   "source": [
    "#re_df['CUS_Marital_Status'].replace({'SINGLE':0,'MARRIED':1,'DIVORCE':2,'WIDOWED':3,'OTHER':4,'PARTNER':5},inplace=True)"
   ]
  },
  {
   "cell_type": "code",
   "execution_count": 58,
   "id": "59f1740c",
   "metadata": {},
   "outputs": [],
   "source": [
    "#re_df['Status'].replace({'ACTIVE':1,'CHURN':0},inplace=True)"
   ]
  },
  {
   "cell_type": "code",
   "execution_count": 59,
   "id": "6d9d48af",
   "metadata": {},
   "outputs": [],
   "source": [
    "#re_df.info()"
   ]
  },
  {
   "cell_type": "code",
   "execution_count": 60,
   "id": "6260e56f",
   "metadata": {},
   "outputs": [],
   "source": [
    "#df = pd.read_excel('CHURNDATA (1).xlsx')\n",
    "#re_df =  pd.read_excel('Recommed.xlsx')\n",
    "\n",
    "#merged_df =  pd.merge(df, re_df, on='AGE')"
   ]
  },
  {
   "cell_type": "code",
   "execution_count": 61,
   "id": "c7c746fd",
   "metadata": {},
   "outputs": [],
   "source": [
    "#re_df.head()"
   ]
  },
  {
   "cell_type": "code",
   "execution_count": 62,
   "id": "eabfd8c1",
   "metadata": {},
   "outputs": [],
   "source": [
    "#re_df.info()"
   ]
  },
  {
   "cell_type": "code",
   "execution_count": 63,
   "id": "5487b2c0",
   "metadata": {},
   "outputs": [],
   "source": [
    "#merged_df.isnull().sum()"
   ]
  },
  {
   "cell_type": "code",
   "execution_count": 64,
   "id": "6ce5a3bc",
   "metadata": {},
   "outputs": [],
   "source": [
    "#pt = re_df.pivot_table(columns='YEARS_WITH_US',index='PRODUCTS',values='Status')"
   ]
  },
  {
   "cell_type": "code",
   "execution_count": 65,
   "id": "7bec9879",
   "metadata": {},
   "outputs": [],
   "source": [
    "#pt.shape"
   ]
  },
  {
   "cell_type": "code",
   "execution_count": 66,
   "id": "0499f187",
   "metadata": {},
   "outputs": [],
   "source": [
    "#pt.fillna(0,inplace=True)"
   ]
  },
  {
   "cell_type": "code",
   "execution_count": 67,
   "id": "387e2fe1",
   "metadata": {},
   "outputs": [],
   "source": [
    "#from sklearn.metrics.pairwise import cosine_similarity"
   ]
  },
  {
   "cell_type": "code",
   "execution_count": 68,
   "id": "30829d70",
   "metadata": {},
   "outputs": [],
   "source": [
    "#similarity_scores = cosine_similarity(pt)"
   ]
  },
  {
   "cell_type": "code",
   "execution_count": 69,
   "id": "ad7b1e6d",
   "metadata": {},
   "outputs": [],
   "source": [
    "#similarity_scores.shape"
   ]
  },
  {
   "cell_type": "code",
   "execution_count": 70,
   "id": "d2b8f7f3",
   "metadata": {},
   "outputs": [],
   "source": [
    "import pickle\n",
    "pickle.dump(ABC,open('nbamodel.pkl','wb'))"
   ]
  },
  {
   "cell_type": "code",
   "execution_count": null,
   "id": "a46f3434",
   "metadata": {},
   "outputs": [],
   "source": []
  }
 ],
 "metadata": {
  "kernelspec": {
   "display_name": "Python 3 (ipykernel)",
   "language": "python",
   "name": "python3"
  },
  "language_info": {
   "codemirror_mode": {
    "name": "ipython",
    "version": 3
   },
   "file_extension": ".py",
   "mimetype": "text/x-python",
   "name": "python",
   "nbconvert_exporter": "python",
   "pygments_lexer": "ipython3",
   "version": "3.9.13"
  }
 },
 "nbformat": 4,
 "nbformat_minor": 5
}
